{
 "cells": [
  {
   "cell_type": "markdown",
   "metadata": {},
   "source": [
    "# Part 1"
   ]
  },
  {
   "cell_type": "markdown",
   "metadata": {},
   "source": [
    "# Multivariate Linear Regression"
   ]
  },
  {
   "cell_type": "code",
   "execution_count": 130,
   "metadata": {},
   "outputs": [],
   "source": [
    "import numpy as np\n",
    "import matplotlib.pyplot as plt"
   ]
  },
  {
   "cell_type": "code",
   "execution_count": 131,
   "metadata": {},
   "outputs": [],
   "source": [
    "my_data = np.genfromtxt('housingPriceData.csv', delimiter=',')"
   ]
  },
  {
   "cell_type": "code",
   "execution_count": 132,
   "metadata": {},
   "outputs": [],
   "source": [
    "my_data = np.delete(my_data,0,0)"
   ]
  },
  {
   "cell_type": "code",
   "execution_count": 133,
   "metadata": {},
   "outputs": [],
   "source": [
    "my_data = np.delete(my_data,0,1)"
   ]
  },
  {
   "cell_type": "code",
   "execution_count": 134,
   "metadata": {},
   "outputs": [
    {
     "data": {
      "text/plain": [
       "array([[2.21900e+05, 3.00000e+00, 1.00000e+00, 1.18000e+03],\n",
       "       [5.38000e+05, 3.00000e+00, 2.25000e+00, 2.57000e+03],\n",
       "       [1.80000e+05, 2.00000e+00, 1.00000e+00, 7.70000e+02],\n",
       "       ...,\n",
       "       [4.02101e+05, 2.00000e+00, 7.50000e-01, 1.02000e+03],\n",
       "       [4.00000e+05, 3.00000e+00, 2.50000e+00, 1.60000e+03],\n",
       "       [3.25000e+05, 2.00000e+00, 7.50000e-01, 1.02000e+03]])"
      ]
     },
     "execution_count": 134,
     "metadata": {},
     "output_type": "execute_result"
    }
   ],
   "source": [
    "my_data"
   ]
  },
  {
   "cell_type": "code",
   "execution_count": 135,
   "metadata": {},
   "outputs": [],
   "source": [
    "Y = my_data[:,0]"
   ]
  },
  {
   "cell_type": "code",
   "execution_count": 136,
   "metadata": {},
   "outputs": [],
   "source": [
    "my_data = np.delete(my_data,0,1)"
   ]
  },
  {
   "cell_type": "code",
   "execution_count": 137,
   "metadata": {},
   "outputs": [],
   "source": [
    "X = my_data"
   ]
  },
  {
   "cell_type": "code",
   "execution_count": 138,
   "metadata": {},
   "outputs": [
    {
     "data": {
      "text/plain": [
       "array([[3.00e+00, 1.00e+00, 1.18e+03],\n",
       "       [3.00e+00, 2.25e+00, 2.57e+03],\n",
       "       [2.00e+00, 1.00e+00, 7.70e+02],\n",
       "       ...,\n",
       "       [2.00e+00, 7.50e-01, 1.02e+03],\n",
       "       [3.00e+00, 2.50e+00, 1.60e+03],\n",
       "       [2.00e+00, 7.50e-01, 1.02e+03]])"
      ]
     },
     "execution_count": 138,
     "metadata": {},
     "output_type": "execute_result"
    }
   ],
   "source": [
    "X"
   ]
  },
  {
   "cell_type": "code",
   "execution_count": 139,
   "metadata": {},
   "outputs": [
    {
     "data": {
      "text/plain": [
       "array([221900., 538000., 180000., ..., 402101., 400000., 325000.])"
      ]
     },
     "execution_count": 139,
     "metadata": {},
     "output_type": "execute_result"
    }
   ],
   "source": [
    "Y"
   ]
  },
  {
   "cell_type": "code",
   "execution_count": 140,
   "metadata": {},
   "outputs": [
    {
     "data": {
      "text/plain": [
       "array([[1.],\n",
       "       [1.],\n",
       "       [1.],\n",
       "       ...,\n",
       "       [1.],\n",
       "       [1.],\n",
       "       [1.]])"
      ]
     },
     "execution_count": 140,
     "metadata": {},
     "output_type": "execute_result"
    }
   ],
   "source": [
    "ones = np.ones([X.shape[0],1])\n",
    "ones"
   ]
  },
  {
   "cell_type": "code",
   "execution_count": 141,
   "metadata": {},
   "outputs": [
    {
     "data": {
      "text/plain": [
       "(21613, 1)"
      ]
     },
     "execution_count": 141,
     "metadata": {},
     "output_type": "execute_result"
    }
   ],
   "source": [
    "ones.shape"
   ]
  },
  {
   "cell_type": "code",
   "execution_count": 142,
   "metadata": {},
   "outputs": [
    {
     "data": {
      "text/plain": [
       "array([[1.00e+00, 3.00e+00, 1.00e+00, 1.18e+03],\n",
       "       [1.00e+00, 3.00e+00, 2.25e+00, 2.57e+03],\n",
       "       [1.00e+00, 2.00e+00, 1.00e+00, 7.70e+02],\n",
       "       ...,\n",
       "       [1.00e+00, 2.00e+00, 7.50e-01, 1.02e+03],\n",
       "       [1.00e+00, 3.00e+00, 2.50e+00, 1.60e+03],\n",
       "       [1.00e+00, 2.00e+00, 7.50e-01, 1.02e+03]])"
      ]
     },
     "execution_count": 142,
     "metadata": {},
     "output_type": "execute_result"
    }
   ],
   "source": [
    "X = np.concatenate([ones,X],1)\n",
    "X"
   ]
  },
  {
   "cell_type": "markdown",
   "metadata": {},
   "source": [
    "## Visualising the data"
   ]
  },
  {
   "cell_type": "markdown",
   "metadata": {},
   "source": [
    "No. of bedrooms"
   ]
  },
  {
   "cell_type": "code",
   "execution_count": 143,
   "metadata": {},
   "outputs": [
    {
     "data": {
      "text/plain": [
       "<matplotlib.collections.PathCollection at 0x7f9ac9d5f6d0>"
      ]
     },
     "execution_count": 143,
     "metadata": {},
     "output_type": "execute_result"
    },
    {
     "data": {
      "image/png": "[encoded data removed]",
      "text/plain": [
       "<Figure size 432x288 with 1 Axes>"
      ]
     },
     "metadata": {
      "needs_background": "light"
     },
     "output_type": "display_data"
    }
   ],
   "source": [
    "plt.scatter(X[:,1],Y)"
   ]
  },
  {
   "cell_type": "markdown",
   "metadata": {},
   "source": [
    "No. of bathrooms"
   ]
  },
  {
   "cell_type": "code",
   "execution_count": 144,
   "metadata": {},
   "outputs": [
    {
     "data": {
      "text/plain": [
       "<matplotlib.collections.PathCollection at 0x7f9aca7a9190>"
      ]
     },
     "execution_count": 144,
     "metadata": {},
     "output_type": "execute_result"
    },
    {
     "data": {
      "image/png": "[encoded data removed]",
      "text/plain": [
       "<Figure size 432x288 with 1 Axes>"
      ]
     },
     "metadata": {
      "needs_background": "light"
     },
     "output_type": "display_data"
    }
   ],
   "source": [
    "plt.scatter(X[:,2],Y)"
   ]
  },
  {
   "cell_type": "markdown",
   "metadata": {},
   "source": [
    "Square ft. living area"
   ]
  },
  {
   "cell_type": "code",
   "execution_count": 145,
   "metadata": {},
   "outputs": [
    {
     "data": {
      "text/plain": [
       "<matplotlib.collections.PathCollection at 0x7f9aca69ce90>"
      ]
     },
     "execution_count": 145,
     "metadata": {},
     "output_type": "execute_result"
    },
    {
     "data": {
      "image/png": "[encoded data removed]",
      "text/plain": [
       "<Figure size 432x288 with 1 Axes>"
      ]
     },
     "metadata": {
      "needs_background": "light"
     },
     "output_type": "display_data"
    }
   ],
   "source": [
    "plt.scatter(X[:,3],Y)"
   ]
  },
  {
   "cell_type": "code",
   "execution_count": 146,
   "metadata": {},
   "outputs": [],
   "source": [
    "alpha = 0.001\n",
    "iters = 100\n",
    "\n",
    "# theta is a row vector\n",
    "theta = np.array([[5.0,5.0,5.0,5.0]])"
   ]
  },
  {
   "cell_type": "code",
   "execution_count": 147,
   "metadata": {},
   "outputs": [],
   "source": [
    "def computeCost(X,Y,theta):\n",
    "    inner = (( X @ theta.T) - Y) ** 2\n",
    "    return np.sum(inner) / ( 2 * len(X))    "
   ]
  },
  {
   "cell_type": "code",
   "execution_count": 148,
   "metadata": {},
   "outputs": [
    {
     "data": {
      "text/plain": [
       "array([221900., 538000., 180000., ..., 402101., 400000., 325000.])"
      ]
     },
     "execution_count": 148,
     "metadata": {},
     "output_type": "execute_result"
    }
   ],
   "source": [
    "Y"
   ]
  },
  {
   "cell_type": "code",
   "execution_count": 149,
   "metadata": {},
   "outputs": [
    {
     "data": {
      "text/plain": [
       "array([[221900.],\n",
       "       [538000.],\n",
       "       [180000.],\n",
       "       ...,\n",
       "       [402101.],\n",
       "       [400000.],\n",
       "       [325000.]])"
      ]
     },
     "execution_count": 149,
     "metadata": {},
     "output_type": "execute_result"
    }
   ],
   "source": [
    "Y = Y.reshape(-1,1)\n",
    "Y"
   ]
  },
  {
   "cell_type": "code",
   "execution_count": 150,
   "metadata": {},
   "outputs": [],
   "source": [
    "# Normalisation\n",
    "Mean = np.sum(X,axis=0)\n",
    "Mean = Mean.reshape(1,-1)\n",
    "Mean = Mean/len(X)\n",
    "X = (X - Mean)/len(X)\n",
    "Mean\n",
    "X\n",
    "Mean_Y = np.sum(Y,axis=0)/len(Y)\n",
    "Mean_Y\n",
    "Y = (Y - Mean_Y)/len(Y)"
   ]
  },
  {
   "cell_type": "code",
   "execution_count": 151,
   "metadata": {},
   "outputs": [
    {
     "data": {
      "text/plain": [
       "141.7485839929009"
      ]
     },
     "execution_count": 151,
     "metadata": {},
     "output_type": "execute_result"
    }
   ],
   "source": [
    "computeCost(X,Y,theta)"
   ]
  },
  {
   "cell_type": "code",
   "execution_count": 152,
   "metadata": {},
   "outputs": [
    {
     "data": {
      "text/plain": [
       "(21613, 1)"
      ]
     },
     "execution_count": 152,
     "metadata": {},
     "output_type": "execute_result"
    }
   ],
   "source": [
    "( X @ theta.T).shape"
   ]
  },
  {
   "cell_type": "code",
   "execution_count": 153,
   "metadata": {},
   "outputs": [
    {
     "data": {
      "text/plain": [
       "array([[-14.72207198],\n",
       "       [ -0.09661508],\n",
       "       [-16.66072002],\n",
       "       ...,\n",
       "       [ -6.38445111],\n",
       "       [ -6.48166112],\n",
       "       [ -9.95179483]])"
      ]
     },
     "execution_count": 153,
     "metadata": {},
     "output_type": "execute_result"
    }
   ],
   "source": [
    "Y.shape\n",
    "Y"
   ]
  },
  {
   "cell_type": "code",
   "execution_count": 154,
   "metadata": {},
   "outputs": [],
   "source": [
    "def gradientDescent(X,Y,theta,alpha,iters):\n",
    "    cost = 0\n",
    "    for i in range(iters):\n",
    "       theta = theta - alpha* np.sum((X @ theta.T - Y)*X,axis=0).reshape(1,-1)\n",
    "       cost = computeCost(X, Y, theta)\n",
    "       plt.scatter(i,cost)\n",
    "    cost = computeCost(X, Y, theta) \n",
    "    return (theta,cost)\n"
   ]
  },
  {
   "cell_type": "code",
   "execution_count": 155,
   "metadata": {},
   "outputs": [
    {
     "data": {
      "image/png": "[encoded data removed]",
      "text/plain": [
       "<Figure size 432x288 with 1 Axes>"
      ]
     },
     "metadata": {
      "needs_background": "light"
     },
     "output_type": "display_data"
    }
   ],
   "source": [
    "theta,cost = gradientDescent(X,Y,theta,alpha,iters)"
   ]
  },
  {
   "cell_type": "code",
   "execution_count": 156,
   "metadata": {},
   "outputs": [
    {
     "data": {
      "text/plain": [
       "array([[  5.        ,   5.00549471,   5.16505366, 275.47199668]])"
      ]
     },
     "execution_count": 156,
     "metadata": {},
     "output_type": "execute_result"
    }
   ],
   "source": [
    "theta"
   ]
  },
  {
   "cell_type": "code",
   "execution_count": 157,
   "metadata": {},
   "outputs": [
    {
     "data": {
      "text/plain": [
       "73.18644334758972"
      ]
     },
     "execution_count": 157,
     "metadata": {},
     "output_type": "execute_result"
    }
   ],
   "source": [
    "cost"
   ]
  },
  {
   "cell_type": "code",
   "execution_count": 158,
   "metadata": {},
   "outputs": [],
   "source": [
    "def rmse(X,Y,theta):\n",
    "    temp = np.sqrt((1/len(X))*np.sum(((X @ theta.T) - Y) ** 2))\n",
    "    return temp"
   ]
  },
  {
   "cell_type": "code",
   "execution_count": 159,
   "metadata": {},
   "outputs": [
    {
     "data": {
      "text/plain": [
       "12.098466295162352"
      ]
     },
     "execution_count": 159,
     "metadata": {},
     "output_type": "execute_result"
    }
   ],
   "source": [
    "rmse(X,Y,theta)"
   ]
  },
  {
   "cell_type": "code",
   "execution_count": 160,
   "metadata": {},
   "outputs": [],
   "source": [
    "def r2Score(X,Y,theta):\n",
    "    mean_y = np.mean(Y)\n",
    "    \n",
    "    N = np.sum(((X @ theta.T) - Y) ** 2)\n",
    "    \n",
    "    D = np.sum((Y - mean_y) ** 2)\n",
    "    \n",
    "    temp = 1 - (N/D)\n",
    "    \n",
    "    return temp"
   ]
  },
  {
   "cell_type": "code",
   "execution_count": 161,
   "metadata": {},
   "outputs": [
    {
     "data": {
      "text/plain": [
       "0.4926849764533813"
      ]
     },
     "execution_count": 161,
     "metadata": {},
     "output_type": "execute_result"
    }
   ],
   "source": [
    "r2Score(X,Y,theta)"
   ]
  },
  {
   "cell_type": "markdown",
   "metadata": {},
   "source": [
    "# Multivariate Polynomial Regression"
   ]
  },
  {
   "cell_type": "markdown",
   "metadata": {},
   "source": [
    "h β (X) = β 0 + β 1 x 1 + β 2 x 2 + β 3 x 21 + β 4 x 22 + β 5 x 1 x 2"
   ]
  },
  {
   "cell_type": "markdown",
   "metadata": {},
   "source": [
    "Using only bedrooms and square ft. area i.e. the first and the third column only."
   ]
  },
  {
   "cell_type": "code",
   "execution_count": 162,
   "metadata": {},
   "outputs": [
    {
     "data": {
      "text/plain": [
       "array([[3.00e+00, 1.00e+00, 1.18e+03],\n",
       "       [3.00e+00, 2.25e+00, 2.57e+03],\n",
       "       [2.00e+00, 1.00e+00, 7.70e+02],\n",
       "       ...,\n",
       "       [2.00e+00, 7.50e-01, 1.02e+03],\n",
       "       [3.00e+00, 2.50e+00, 1.60e+03],\n",
       "       [2.00e+00, 7.50e-01, 1.02e+03]])"
      ]
     },
     "execution_count": 162,
     "metadata": {},
     "output_type": "execute_result"
    }
   ],
   "source": [
    "my_data"
   ]
  },
  {
   "cell_type": "code",
   "execution_count": 163,
   "metadata": {},
   "outputs": [],
   "source": [
    "my_data2 = np.delete(my_data,1,1)"
   ]
  },
  {
   "cell_type": "code",
   "execution_count": 164,
   "metadata": {},
   "outputs": [
    {
     "data": {
      "text/plain": [
       "array([[3.00e+00, 1.18e+03],\n",
       "       [3.00e+00, 2.57e+03],\n",
       "       [2.00e+00, 7.70e+02],\n",
       "       ...,\n",
       "       [2.00e+00, 1.02e+03],\n",
       "       [3.00e+00, 1.60e+03],\n",
       "       [2.00e+00, 1.02e+03]])"
      ]
     },
     "execution_count": 164,
     "metadata": {},
     "output_type": "execute_result"
    }
   ],
   "source": [
    "my_data2"
   ]
  },
  {
   "cell_type": "code",
   "execution_count": 165,
   "metadata": {},
   "outputs": [
    {
     "data": {
      "text/plain": [
       "array([[1., 1., 1.],\n",
       "       [1., 1., 1.],\n",
       "       [1., 1., 1.],\n",
       "       ...,\n",
       "       [1., 1., 1.],\n",
       "       [1., 1., 1.],\n",
       "       [1., 1., 1.]])"
      ]
     },
     "execution_count": 165,
     "metadata": {},
     "output_type": "execute_result"
    }
   ],
   "source": [
    "add_last = np.ones([X.shape[0],3])\n",
    "add_last"
   ]
  },
  {
   "cell_type": "code",
   "execution_count": 166,
   "metadata": {},
   "outputs": [
    {
     "data": {
      "text/plain": [
       "array([[1.],\n",
       "       [1.],\n",
       "       [1.],\n",
       "       ...,\n",
       "       [1.],\n",
       "       [1.],\n",
       "       [1.]])"
      ]
     },
     "execution_count": 166,
     "metadata": {},
     "output_type": "execute_result"
    }
   ],
   "source": [
    "add_start = np.ones([X.shape[0],1])\n",
    "add_start"
   ]
  },
  {
   "cell_type": "code",
   "execution_count": 167,
   "metadata": {},
   "outputs": [
    {
     "data": {
      "text/plain": [
       "array([[1.00e+00, 3.00e+00, 1.18e+03],\n",
       "       [1.00e+00, 3.00e+00, 2.57e+03],\n",
       "       [1.00e+00, 2.00e+00, 7.70e+02],\n",
       "       ...,\n",
       "       [1.00e+00, 2.00e+00, 1.02e+03],\n",
       "       [1.00e+00, 3.00e+00, 1.60e+03],\n",
       "       [1.00e+00, 2.00e+00, 1.02e+03]])"
      ]
     },
     "execution_count": 167,
     "metadata": {},
     "output_type": "execute_result"
    }
   ],
   "source": [
    "my_data2 = np.concatenate([add_start,my_data2],1)\n",
    "my_data2"
   ]
  },
  {
   "cell_type": "code",
   "execution_count": 168,
   "metadata": {},
   "outputs": [
    {
     "data": {
      "text/plain": [
       "array([[1.00e+00, 3.00e+00, 1.18e+03, 1.00e+00, 1.00e+00, 1.00e+00],\n",
       "       [1.00e+00, 3.00e+00, 2.57e+03, 1.00e+00, 1.00e+00, 1.00e+00],\n",
       "       [1.00e+00, 2.00e+00, 7.70e+02, 1.00e+00, 1.00e+00, 1.00e+00],\n",
       "       ...,\n",
       "       [1.00e+00, 2.00e+00, 1.02e+03, 1.00e+00, 1.00e+00, 1.00e+00],\n",
       "       [1.00e+00, 3.00e+00, 1.60e+03, 1.00e+00, 1.00e+00, 1.00e+00],\n",
       "       [1.00e+00, 2.00e+00, 1.02e+03, 1.00e+00, 1.00e+00, 1.00e+00]])"
      ]
     },
     "execution_count": 168,
     "metadata": {},
     "output_type": "execute_result"
    }
   ],
   "source": [
    "my_data2 = np.concatenate([my_data2,add_last],1)\n",
    "my_data2"
   ]
  },
  {
   "cell_type": "code",
   "execution_count": 169,
   "metadata": {},
   "outputs": [],
   "source": [
    "my_data2[:,3] = my_data2[:,1] ** 2\n",
    "my_data2[:,4] = my_data2[:,2] ** 2\n",
    "my_data2[:,5] = my_data2[:,1]*my_data2[:,2]"
   ]
  },
  {
   "cell_type": "code",
   "execution_count": 170,
   "metadata": {},
   "outputs": [
    {
     "data": {
      "text/plain": [
       "array([[1.0000e+00, 3.0000e+00, 1.1800e+03, 9.0000e+00, 1.3924e+06,\n",
       "        3.5400e+03],\n",
       "       [1.0000e+00, 3.0000e+00, 2.5700e+03, 9.0000e+00, 6.6049e+06,\n",
       "        7.7100e+03],\n",
       "       [1.0000e+00, 2.0000e+00, 7.7000e+02, 4.0000e+00, 5.9290e+05,\n",
       "        1.5400e+03],\n",
       "       ...,\n",
       "       [1.0000e+00, 2.0000e+00, 1.0200e+03, 4.0000e+00, 1.0404e+06,\n",
       "        2.0400e+03],\n",
       "       [1.0000e+00, 3.0000e+00, 1.6000e+03, 9.0000e+00, 2.5600e+06,\n",
       "        4.8000e+03],\n",
       "       [1.0000e+00, 2.0000e+00, 1.0200e+03, 4.0000e+00, 1.0404e+06,\n",
       "        2.0400e+03]])"
      ]
     },
     "execution_count": 170,
     "metadata": {},
     "output_type": "execute_result"
    }
   ],
   "source": [
    "my_data2"
   ]
  },
  {
   "cell_type": "code",
   "execution_count": 171,
   "metadata": {},
   "outputs": [
    {
     "data": {
      "text/plain": [
       "(21613, 6)"
      ]
     },
     "execution_count": 171,
     "metadata": {},
     "output_type": "execute_result"
    }
   ],
   "source": [
    "my_data2.shape"
   ]
  },
  {
   "cell_type": "code",
   "execution_count": 172,
   "metadata": {},
   "outputs": [
    {
     "data": {
      "text/plain": [
       "(21613, 1)"
      ]
     },
     "execution_count": 172,
     "metadata": {},
     "output_type": "execute_result"
    }
   ],
   "source": [
    "Y.shape"
   ]
  },
  {
   "cell_type": "code",
   "execution_count": 173,
   "metadata": {},
   "outputs": [
    {
     "data": {
      "text/plain": [
       "array([[-14.72207198],\n",
       "       [ -0.09661508],\n",
       "       [-16.66072002],\n",
       "       ...,\n",
       "       [ -6.38445111],\n",
       "       [ -6.48166112],\n",
       "       [ -9.95179483]])"
      ]
     },
     "execution_count": 173,
     "metadata": {},
     "output_type": "execute_result"
    }
   ],
   "source": [
    "Y"
   ]
  },
  {
   "cell_type": "code",
   "execution_count": 174,
   "metadata": {},
   "outputs": [],
   "source": [
    "X2 = my_data2"
   ]
  },
  {
   "cell_type": "markdown",
   "metadata": {},
   "source": [
    "We need to normalise only X as Y is already normalised."
   ]
  },
  {
   "cell_type": "code",
   "execution_count": null,
   "metadata": {},
   "outputs": [],
   "source": [
    "X2"
   ]
  },
  {
   "cell_type": "code",
   "execution_count": null,
   "metadata": {},
   "outputs": [],
   "source": [
    "Mean = np.sum(X2,axis=0)\n",
    "Mean = Mean.reshape(1,-1)\n",
    "Mean = Mean/len(X2)\n",
    "X2 = (X2 - Mean)/len(X2)"
   ]
  },
  {
   "cell_type": "code",
   "execution_count": null,
   "metadata": {},
   "outputs": [],
   "source": [
    "X2"
   ]
  },
  {
   "cell_type": "code",
   "execution_count": null,
   "metadata": {},
   "outputs": [],
   "source": [
    "alpha = 0.0000000001\n",
    "iters = 100\n",
    "\n",
    "# theta is a row vector\n",
    "theta = np.array([[0.5,0.5,0.5,0.0,0.0,0.0]])"
   ]
  },
  {
   "cell_type": "code",
   "execution_count": null,
   "metadata": {},
   "outputs": [],
   "source": [
    "computeCost(X2,Y,theta)"
   ]
  },
  {
   "cell_type": "code",
   "execution_count": null,
   "metadata": {},
   "outputs": [],
   "source": [
    "theta2, cost2 = gradientDescent(X2,Y,theta,alpha,iters)"
   ]
  },
  {
   "cell_type": "code",
   "execution_count": null,
   "metadata": {},
   "outputs": [],
   "source": [
    "theta2"
   ]
  },
  {
   "cell_type": "code",
   "execution_count": null,
   "metadata": {},
   "outputs": [],
   "source": [
    "cost2"
   ]
  },
  {
   "cell_type": "code",
   "execution_count": null,
   "metadata": {},
   "outputs": [],
   "source": [
    "rmse(X2,Y,theta2)"
   ]
  },
  {
   "cell_type": "code",
   "execution_count": null,
   "metadata": {},
   "outputs": [],
   "source": [
    "r2Score(X2,Y,theta2)"
   ]
  },
  {
   "cell_type": "markdown",
   "metadata": {},
   "source": [
    "# Part 2"
   ]
  },
  {
   "cell_type": "markdown",
   "metadata": {},
   "source": [
    "# Regularized Regression"
   ]
  },
  {
   "cell_type": "markdown",
   "metadata": {},
   "source": [
    "https://towardsdatascience.com/regularization-in-machine-learning-76441ddcf99a"
   ]
  },
  {
   "cell_type": "code",
   "execution_count": null,
   "metadata": {},
   "outputs": [],
   "source": [
    "from sklearn.model_selection import train_test_split"
   ]
  },
  {
   "cell_type": "code",
   "execution_count": null,
   "metadata": {},
   "outputs": [],
   "source": [
    "X,X_test,Y,Y_test = train_test_split(X,Y)"
   ]
  },
  {
   "cell_type": "code",
   "execution_count": null,
   "metadata": {},
   "outputs": [],
   "source": [
    "lamb = 1"
   ]
  },
  {
   "cell_type": "code",
   "execution_count": null,
   "metadata": {},
   "outputs": [],
   "source": [
    "def computeCostReg(X,Y,theta,lamb):\n",
    "    inner = (( X @ theta.T) - Y) ** 2\n",
    "    reg = lamb*np.sum(theta**2)\n",
    "    return (np.sum(inner)+ reg) / ( 2 * len(X)) "
   ]
  },
  {
   "cell_type": "code",
   "execution_count": null,
   "metadata": {},
   "outputs": [],
   "source": [
    "X.shape"
   ]
  },
  {
   "cell_type": "code",
   "execution_count": null,
   "metadata": {},
   "outputs": [],
   "source": [
    "theta = np.array([0.0,0.0,0.0,0.0])\n",
    "theta = theta.reshape(1,-1)\n",
    "theta"
   ]
  },
  {
   "cell_type": "code",
   "execution_count": null,
   "metadata": {},
   "outputs": [],
   "source": [
    "computeCostReg(X,Y,theta,lamb)"
   ]
  },
  {
   "cell_type": "code",
   "execution_count": null,
   "metadata": {},
   "outputs": [],
   "source": [
    "computeCostReg(X_test,Y_test,theta,lamb)"
   ]
  },
  {
   "cell_type": "code",
   "execution_count": null,
   "metadata": {},
   "outputs": [],
   "source": [
    "def gradientDescentReg(X,Y,theta,alpha,iters,lamb):\n",
    "    cost = 0\n",
    "    for i in range(iters):\n",
    "       theta = theta - alpha* np.sum((X @ theta.T - Y)*X,axis=0).reshape(1,-1) + lamb*theta*alpha\n",
    "       cost = computeCostReg(X, Y, theta, lamb)\n",
    "       plt.scatter(i,cost)\n",
    "    cost = computeCostReg(X, Y, theta, lamb) \n",
    "    return (theta,cost)"
   ]
  },
  {
   "cell_type": "code",
   "execution_count": null,
   "metadata": {},
   "outputs": [],
   "source": [
    "iters = 1500\n",
    "alpha = 0.00015"
   ]
  },
  {
   "cell_type": "code",
   "execution_count": null,
   "metadata": {},
   "outputs": [],
   "source": [
    "theta3, cost = gradientDescentReg(X,Y,theta,alpha,iters,lamb)"
   ]
  },
  {
   "cell_type": "code",
   "execution_count": null,
   "metadata": {},
   "outputs": [],
   "source": [
    "computeCostReg(X_test,Y_test,theta,lamb)"
   ]
  },
  {
   "cell_type": "code",
   "execution_count": null,
   "metadata": {},
   "outputs": [],
   "source": [
    "cost"
   ]
  },
  {
   "cell_type": "code",
   "execution_count": null,
   "metadata": {},
   "outputs": [],
   "source": [
    "rmse(X,Y,theta3)"
   ]
  },
  {
   "cell_type": "code",
   "execution_count": null,
   "metadata": {},
   "outputs": [],
   "source": [
    "r2Score(X,Y,theta3)"
   ]
  },
  {
   "cell_type": "markdown",
   "metadata": {},
   "source": [
    "# LASSO"
   ]
  },
  {
   "cell_type": "code",
   "execution_count": null,
   "metadata": {},
   "outputs": [],
   "source": [
    "def gradientDescentLasso(X,Y,theta,alpha,iters,lamb):\n",
    "    cost = 0\n",
    "    for i in range(iters):\n",
    "       theta = theta - alpha* np.sum((X @ theta.T - Y)*X,axis=0).reshape(1,-1) + lamb*alpha\n",
    "       cost = computeCostReg(X, Y, theta, lamb)\n",
    "       plt.scatter(i,cost)\n",
    "    cost = computeCostReg(X, Y, theta, lamb) \n",
    "    return (theta,cost)"
   ]
  },
  {
   "cell_type": "code",
   "execution_count": null,
   "metadata": {},
   "outputs": [],
   "source": [
    "def computeCostLasso(X,Y,theta,lamb):\n",
    "    inner = (( X @ theta.T) - Y) ** 2\n",
    "    reg = lamb*np.sum(np.absolute(theta))\n",
    "    return (np.sum(inner)+ reg) / ( 2 * len(X)) "
   ]
  },
  {
   "cell_type": "code",
   "execution_count": null,
   "metadata": {},
   "outputs": [],
   "source": [
    "theta = np.array([0.0,0.0,0.0,0.0])\n",
    "theta = theta.reshape(1,-1)"
   ]
  },
  {
   "cell_type": "code",
   "execution_count": null,
   "metadata": {},
   "outputs": [],
   "source": [
    "lamb = 5\n",
    "iters = 1000\n",
    "alpha = 0.0001"
   ]
  },
  {
   "cell_type": "code",
   "execution_count": null,
   "metadata": {},
   "outputs": [],
   "source": [
    "computeCostLasso(X,Y,theta,lamb)"
   ]
  },
  {
   "cell_type": "code",
   "execution_count": null,
   "metadata": {},
   "outputs": [],
   "source": [
    "computeCostLasso(X_test,Y_test,theta,lamb)"
   ]
  },
  {
   "cell_type": "code",
   "execution_count": null,
   "metadata": {},
   "outputs": [],
   "source": [
    "theta4,cost = gradientDescentLasso(X,Y,theta,alpha,iters,lamb)"
   ]
  },
  {
   "cell_type": "code",
   "execution_count": null,
   "metadata": {},
   "outputs": [],
   "source": [
    "theta4"
   ]
  },
  {
   "cell_type": "code",
   "execution_count": null,
   "metadata": {},
   "outputs": [],
   "source": [
    "cost"
   ]
  },
  {
   "cell_type": "code",
   "execution_count": null,
   "metadata": {},
   "outputs": [],
   "source": [
    "computeCostLasso(X_test,Y_test,theta,lamb)"
   ]
  },
  {
   "cell_type": "code",
   "execution_count": null,
   "metadata": {},
   "outputs": [],
   "source": [
    "rmse(X,Y,theta4)"
   ]
  },
  {
   "cell_type": "code",
   "execution_count": null,
   "metadata": {},
   "outputs": [],
   "source": [
    "r2Score(X,Y,theta4)"
   ]
  },
  {
   "cell_type": "code",
   "execution_count": null,
   "metadata": {},
   "outputs": [],
   "source": []
  },
  {
   "cell_type": "code",
   "execution_count": null,
   "metadata": {},
   "outputs": [],
   "source": []
  },
  {
   "cell_type": "code",
   "execution_count": null,
   "metadata": {},
   "outputs": [],
   "source": []
  },
  {
   "cell_type": "code",
   "execution_count": null,
   "metadata": {},
   "outputs": [],
   "source": []
  },
  {
   "cell_type": "code",
   "execution_count": null,
   "metadata": {},
   "outputs": [],
   "source": []
  }
 ],
 "metadata": {
  "kernelspec": {
   "display_name": "Python 3",
   "language": "python",
   "name": "python3"
  },
  "language_info": {
   "codemirror_mode": {
    "name": "ipython",
    "version": 3
   },
   "file_extension": ".py",
   "mimetype": "text/x-python",
   "name": "python",
   "nbconvert_exporter": "python",
   "pygments_lexer": "ipython3",
   "version": "3.7.6"
  }
 },
 "nbformat": 4,
 "nbformat_minor": 4
}
